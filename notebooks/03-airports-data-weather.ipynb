{
 "cells": [
  {
   "cell_type": "code",
   "execution_count": 1,
   "metadata": {},
   "outputs": [],
   "source": [
    "import pandas as pd\n",
    "import airportsdata\n",
    "import csv\n",
    "import codecs\n",
    "import urllib.request\n",
    "import urllib.error\n",
    "import sys\n",
    "import datetime as dt\n",
    "\n",
    "cleaned_df = pd.read_csv('/Users/favea/Downloads/swiss-data/10122022b_cleaned.csv', index_col=0)"
   ]
  },
  {
   "cell_type": "code",
   "execution_count": 2,
   "metadata": {},
   "outputs": [],
   "source": [
    "airports = airportsdata.load('IATA') # key is the ICAO identifier (the default)"
   ]
  },
  {
   "cell_type": "code",
   "execution_count": 3,
   "metadata": {},
   "outputs": [],
   "source": [
    "import json\n",
    "\n",
    "def get_data_weather(row):\n",
    "    \n",
    "    weather_api_endpoint = 'https://weather.visualcrossing.com/VisualCrossingWebServices/rest/services/weatherdata/history?'\n",
    "    query_params = '&contentType=json&aggregateMinutes=15&unitGroup=metric&includeAstronomy=false&collectStationContributions=false&key={}&startDateTime={}&endDateTime={}&locations={},{}'\n",
    "    ApiKey='6SG4URSNKE3MLQK23A4E7R43L'\n",
    "    latitude, longitude = airports[row.origin]['lat'], airports[row.origin]['lon']\n",
    "    date = row.scheduled_time_departure\n",
    "    start = dt.datetime.strptime(date,'%Y-%m-%d %H:%M:%S').isoformat()\n",
    "    query_params=query_params.format(ApiKey, start, start,latitude,longitude)\n",
    "\n",
    "    try:\n",
    "        response = urllib.request.urlopen(weather_api_endpoint +\"?\"+ query_params)\n",
    "        weatherData = json.loads(response.read().decode('utf-8')) \n",
    "\n",
    "        locations=weatherData[\"locations\"]\n",
    "        for locationid in locations:  \n",
    "            location=locations[locationid]\n",
    "            for value in location[\"values\"]:\n",
    "\n",
    "\n",
    "                weather = dict(origin = row.origin, destination = row.destination, scheduled_time_departure = row.scheduled_time_departure,\n",
    "                               temperature = value[\"temp\"], \n",
    "                               precipitation = value[\"precip\"],\n",
    "                               windSpeed = value[\"wspd\"],\n",
    "                               dewpoint = value[\"dew\"],\n",
    "                               humidity = value[\"humidity\"])\n",
    "                return weather\n",
    "    except Exception as e:\n",
    "        print(e)\n",
    "        return  dict(origin = row.origin, destination = row.destination, scheduled_time_departure = row.scheduled_time_departure,\n",
    "                                temperature = None, \n",
    "                               precipitation = None,\n",
    "                               windSpeed =None,\n",
    "                               dewpoint = None,\n",
    "                               humidity = None)\n",
    "        \n",
    "        \n",
    "    \n"
   ]
  },
  {
   "cell_type": "code",
   "execution_count": 4,
   "metadata": {},
   "outputs": [],
   "source": [
    "records = []\n",
    "START = 1960 # Modify this (You have 1000 records free for day)\n",
    "END = 2960 # modify this \n",
    "\n",
    "for row in cleaned_df.iloc[START:END].itertuples():\n",
    "    records.append(get_data_weather(row))\n"
   ]
  },
  {
   "cell_type": "code",
   "execution_count": 5,
   "metadata": {},
   "outputs": [],
   "source": [
    "weather = pd.DataFrame.from_records(records)"
   ]
  },
  {
   "cell_type": "code",
   "execution_count": 6,
   "metadata": {},
   "outputs": [
    {
     "data": {
      "text/html": [
       "<div>\n",
       "<style scoped>\n",
       "    .dataframe tbody tr th:only-of-type {\n",
       "        vertical-align: middle;\n",
       "    }\n",
       "\n",
       "    .dataframe tbody tr th {\n",
       "        vertical-align: top;\n",
       "    }\n",
       "\n",
       "    .dataframe thead th {\n",
       "        text-align: right;\n",
       "    }\n",
       "</style>\n",
       "<table border=\"1\" class=\"dataframe\">\n",
       "  <thead>\n",
       "    <tr style=\"text-align: right;\">\n",
       "      <th></th>\n",
       "      <th>origin</th>\n",
       "      <th>destination</th>\n",
       "      <th>scheduled_time_departure</th>\n",
       "      <th>temperature</th>\n",
       "      <th>precipitation</th>\n",
       "      <th>windSpeed</th>\n",
       "      <th>dewpoint</th>\n",
       "      <th>humidity</th>\n",
       "    </tr>\n",
       "  </thead>\n",
       "  <tbody>\n",
       "    <tr>\n",
       "      <th>0</th>\n",
       "      <td>ZRH</td>\n",
       "      <td>IBZ</td>\n",
       "      <td>2021-08-12 15:00:00</td>\n",
       "      <td>29.4</td>\n",
       "      <td>0.0</td>\n",
       "      <td>2.9</td>\n",
       "      <td>14.5</td>\n",
       "      <td>40.37</td>\n",
       "    </tr>\n",
       "    <tr>\n",
       "      <th>1</th>\n",
       "      <td>ZRH</td>\n",
       "      <td>BOD</td>\n",
       "      <td>2021-08-12 10:20:00</td>\n",
       "      <td>NaN</td>\n",
       "      <td>0.0</td>\n",
       "      <td>NaN</td>\n",
       "      <td>NaN</td>\n",
       "      <td>NaN</td>\n",
       "    </tr>\n",
       "    <tr>\n",
       "      <th>2</th>\n",
       "      <td>ZRH</td>\n",
       "      <td>FNC</td>\n",
       "      <td>2021-08-12 05:30:00</td>\n",
       "      <td>NaN</td>\n",
       "      <td>0.0</td>\n",
       "      <td>NaN</td>\n",
       "      <td>NaN</td>\n",
       "      <td>NaN</td>\n",
       "    </tr>\n",
       "    <tr>\n",
       "      <th>3</th>\n",
       "      <td>ZRH</td>\n",
       "      <td>NCE</td>\n",
       "      <td>2021-08-12 15:15:00</td>\n",
       "      <td>NaN</td>\n",
       "      <td>0.0</td>\n",
       "      <td>NaN</td>\n",
       "      <td>NaN</td>\n",
       "      <td>NaN</td>\n",
       "    </tr>\n",
       "    <tr>\n",
       "      <th>4</th>\n",
       "      <td>ZRH</td>\n",
       "      <td>NCE</td>\n",
       "      <td>2021-08-12 05:25:00</td>\n",
       "      <td>14.9</td>\n",
       "      <td>0.0</td>\n",
       "      <td>1.6</td>\n",
       "      <td>13.9</td>\n",
       "      <td>94.04</td>\n",
       "    </tr>\n",
       "    <tr>\n",
       "      <th>...</th>\n",
       "      <td>...</td>\n",
       "      <td>...</td>\n",
       "      <td>...</td>\n",
       "      <td>...</td>\n",
       "      <td>...</td>\n",
       "      <td>...</td>\n",
       "      <td>...</td>\n",
       "      <td>...</td>\n",
       "    </tr>\n",
       "    <tr>\n",
       "      <th>995</th>\n",
       "      <td>ZRH</td>\n",
       "      <td>LHR</td>\n",
       "      <td>2021-09-20 05:05:00</td>\n",
       "      <td>11.3</td>\n",
       "      <td>0.0</td>\n",
       "      <td>1.0</td>\n",
       "      <td>10.8</td>\n",
       "      <td>96.79</td>\n",
       "    </tr>\n",
       "    <tr>\n",
       "      <th>996</th>\n",
       "      <td>ZRH</td>\n",
       "      <td>TLL</td>\n",
       "      <td>2021-09-20 10:40:00</td>\n",
       "      <td>NaN</td>\n",
       "      <td>0.0</td>\n",
       "      <td>NaN</td>\n",
       "      <td>NaN</td>\n",
       "      <td>NaN</td>\n",
       "    </tr>\n",
       "    <tr>\n",
       "      <th>997</th>\n",
       "      <td>ZRH</td>\n",
       "      <td>MLA</td>\n",
       "      <td>2021-09-20 10:05:00</td>\n",
       "      <td>11.9</td>\n",
       "      <td>0.0</td>\n",
       "      <td>2.2</td>\n",
       "      <td>11.4</td>\n",
       "      <td>96.74</td>\n",
       "    </tr>\n",
       "    <tr>\n",
       "      <th>998</th>\n",
       "      <td>ZRH</td>\n",
       "      <td>LHR</td>\n",
       "      <td>2021-09-20 15:10:00</td>\n",
       "      <td>NaN</td>\n",
       "      <td>0.0</td>\n",
       "      <td>NaN</td>\n",
       "      <td>NaN</td>\n",
       "      <td>NaN</td>\n",
       "    </tr>\n",
       "    <tr>\n",
       "      <th>999</th>\n",
       "      <td>ZRH</td>\n",
       "      <td>PVG</td>\n",
       "      <td>2021-09-20 09:30:00</td>\n",
       "      <td>NaN</td>\n",
       "      <td>0.0</td>\n",
       "      <td>NaN</td>\n",
       "      <td>NaN</td>\n",
       "      <td>NaN</td>\n",
       "    </tr>\n",
       "  </tbody>\n",
       "</table>\n",
       "<p>776 rows × 8 columns</p>\n",
       "</div>"
      ],
      "text/plain": [
       "    origin destination scheduled_time_departure  temperature  precipitation  \\\n",
       "0      ZRH         IBZ      2021-08-12 15:00:00         29.4            0.0   \n",
       "1      ZRH         BOD      2021-08-12 10:20:00          NaN            0.0   \n",
       "2      ZRH         FNC      2021-08-12 05:30:00          NaN            0.0   \n",
       "3      ZRH         NCE      2021-08-12 15:15:00          NaN            0.0   \n",
       "4      ZRH         NCE      2021-08-12 05:25:00         14.9            0.0   \n",
       "..     ...         ...                      ...          ...            ...   \n",
       "995    ZRH         LHR      2021-09-20 05:05:00         11.3            0.0   \n",
       "996    ZRH         TLL      2021-09-20 10:40:00          NaN            0.0   \n",
       "997    ZRH         MLA      2021-09-20 10:05:00         11.9            0.0   \n",
       "998    ZRH         LHR      2021-09-20 15:10:00          NaN            0.0   \n",
       "999    ZRH         PVG      2021-09-20 09:30:00          NaN            0.0   \n",
       "\n",
       "     windSpeed  dewpoint  humidity  \n",
       "0          2.9      14.5     40.37  \n",
       "1          NaN       NaN       NaN  \n",
       "2          NaN       NaN       NaN  \n",
       "3          NaN       NaN       NaN  \n",
       "4          1.6      13.9     94.04  \n",
       "..         ...       ...       ...  \n",
       "995        1.0      10.8     96.79  \n",
       "996        NaN       NaN       NaN  \n",
       "997        2.2      11.4     96.74  \n",
       "998        NaN       NaN       NaN  \n",
       "999        NaN       NaN       NaN  \n",
       "\n",
       "[776 rows x 8 columns]"
      ]
     },
     "execution_count": 6,
     "metadata": {},
     "output_type": "execute_result"
    }
   ],
   "source": [
    "weather.drop_duplicates()"
   ]
  },
  {
   "cell_type": "code",
   "execution_count": 7,
   "metadata": {},
   "outputs": [],
   "source": [
    "out_csv = f\"/Users/favea/Downloads/swiss-data/weather_{START}_{END}.csv\""
   ]
  },
  {
   "cell_type": "code",
   "execution_count": 8,
   "metadata": {},
   "outputs": [],
   "source": [
    "weather.to_csv(out_csv)"
   ]
  },
  {
   "cell_type": "code",
   "execution_count": 9,
   "metadata": {},
   "outputs": [
    {
     "name": "stderr",
     "output_type": "stream",
     "text": [
      "Failed to detect the name of this notebook, you can set it manually with the WANDB_NOTEBOOK_NAME environment variable to enable code saving.\n",
      "\u001b[34m\u001b[1mwandb\u001b[0m: Currently logged in as: \u001b[33mandrea-faviait\u001b[0m. Use \u001b[1m`wandb login --relogin`\u001b[0m to force relogin\n"
     ]
    },
    {
     "data": {
      "text/html": [
       "Tracking run with wandb version 0.13.6"
      ],
      "text/plain": [
       "<IPython.core.display.HTML object>"
      ]
     },
     "metadata": {},
     "output_type": "display_data"
    },
    {
     "data": {
      "text/html": [
       "Run data is saved locally in <code>/Users/favea/swiss-delay-prediction/notebooks/wandb/run-20221212_125402-2sjomck6</code>"
      ],
      "text/plain": [
       "<IPython.core.display.HTML object>"
      ]
     },
     "metadata": {},
     "output_type": "display_data"
    },
    {
     "data": {
      "text/html": [
       "Syncing run <strong><a href=\"https://wandb.ai/andrea-faviait/swiss-delay-prediction/runs/2sjomck6\" target=\"_blank\">clear-sun-218</a></strong> to <a href=\"https://wandb.ai/andrea-faviait/swiss-delay-prediction\" target=\"_blank\">Weights & Biases</a> (<a href=\"https://wandb.me/run\" target=\"_blank\">docs</a>)<br/>"
      ],
      "text/plain": [
       "<IPython.core.display.HTML object>"
      ]
     },
     "metadata": {},
     "output_type": "display_data"
    },
    {
     "data": {
      "text/html": [
       "Waiting for W&B process to finish... <strong style=\"color:green\">(success).</strong>"
      ],
      "text/plain": [
       "<IPython.core.display.HTML object>"
      ]
     },
     "metadata": {},
     "output_type": "display_data"
    },
    {
     "data": {
      "text/html": [
       "Synced <strong style=\"color:#cdcd00\">clear-sun-218</strong>: <a href=\"https://wandb.ai/andrea-faviait/swiss-delay-prediction/runs/2sjomck6\" target=\"_blank\">https://wandb.ai/andrea-faviait/swiss-delay-prediction/runs/2sjomck6</a><br/>Synced 5 W&B file(s), 0 media file(s), 2 artifact file(s) and 0 other file(s)"
      ],
      "text/plain": [
       "<IPython.core.display.HTML object>"
      ]
     },
     "metadata": {},
     "output_type": "display_data"
    },
    {
     "data": {
      "text/html": [
       "Find logs at: <code>./wandb/run-20221212_125402-2sjomck6/logs</code>"
      ],
      "text/plain": [
       "<IPython.core.display.HTML object>"
      ]
     },
     "metadata": {},
     "output_type": "display_data"
    }
   ],
   "source": [
    "import wandb\n",
    "\n",
    "with wandb.init(\n",
    "    project=\"swiss-delay-prediction\", entity=None, job_type=\"weather-data\"\n",
    ") as run:\n",
    "    table_merged = wandb.Table(dataframe=weather)\n",
    "\n",
    "    # Create an artifact for our dataset\n",
    "    dataset_artifact = wandb.Artifact(\n",
    "        \"dataset-weather\",\n",
    "        type=\"dataset\",\n",
    "        description=\"Table containing weather info for observations in cleaned dataframe\",\n",
    "    )\n",
    "    # Add the table to the artifact & log the artifact\n",
    "    dataset_artifact.add(table_merged, \"data-table-delay-cleaned\")\n",
    "    dataset_artifact.add_file(\"/Users/favea/Downloads/swiss-data/10122022b_cleaned.csv\")\n",
    "\n",
    "    # Add the\n",
    "    run.log_artifact(dataset_artifact)\n"
   ]
  }
 ],
 "metadata": {
  "kernelspec": {
   "display_name": "Python 3.8.5 ('swiss')",
   "language": "python",
   "name": "python3"
  },
  "language_info": {
   "codemirror_mode": {
    "name": "ipython",
    "version": 3
   },
   "file_extension": ".py",
   "mimetype": "text/x-python",
   "name": "python",
   "nbconvert_exporter": "python",
   "pygments_lexer": "ipython3",
   "version": "3.8.5"
  },
  "orig_nbformat": 4,
  "vscode": {
   "interpreter": {
    "hash": "27173ca9e262779112d37ff834a183edc1f32234e7a598e599b2cfd0e10e4ba1"
   }
  }
 },
 "nbformat": 4,
 "nbformat_minor": 2
}
