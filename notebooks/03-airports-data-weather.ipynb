{
 "cells": [
  {
   "cell_type": "code",
   "execution_count": null,
   "metadata": {},
   "outputs": [],
   "source": [
    "import pandas as pd\n",
    "import airportsdata\n",
    "import csv\n",
    "import codecs\n",
    "import urllib.request\n",
    "import urllib.error\n",
    "import sys\n",
    "import datetime as dt\n",
    "\n",
    "cleaned_df = pd.read_csv('/Users/favea/Downloads/swiss-data/10122022b_cleaned.csv', index_col=0)"
   ]
  },
  {
   "cell_type": "code",
   "execution_count": null,
   "metadata": {},
   "outputs": [],
   "source": [
    "airports = airportsdata.load('IATA') # key is the ICAO identifier (the default)"
   ]
  },
  {
   "cell_type": "code",
   "execution_count": null,
   "metadata": {},
   "outputs": [],
   "source": [
    "import json\n",
    "\n",
    "def get_data_weather(row):\n",
    "    \n",
    "    weather_api_endpoint = 'https://weather.visualcrossing.com/VisualCrossingWebServices/rest/services/weatherdata/history?'\n",
    "    query_params = '&contentType=json&aggregateMinutes=15&unitGroup=metric&includeAstronomy=false&collectStationContributions=false&key={}&startDateTime={}&endDateTime={}&locations={},{}'\n",
    "    ApiKey='6SG4URSNKE3MLQK23A4E7R43L'\n",
    "    latitude, longitude = airports[row.origin]['lat'], airports[row.origin]['lon']\n",
    "    date = row.scheduled_time_departure\n",
    "    start = dt.datetime.strptime(date,'%Y-%m-%d %H:%M:%S').isoformat()\n",
    "    query_params=query_params.format(ApiKey, start, start,latitude,longitude)\n",
    "\n",
    "    try:\n",
    "        response = urllib.request.urlopen(weather_api_endpoint +\"?\"+ query_params)\n",
    "        weatherData = json.loads(response.read().decode('utf-8')) \n",
    "\n",
    "        locations=weatherData[\"locations\"]\n",
    "        for locationid in locations:  \n",
    "            location=locations[locationid]\n",
    "            for value in location[\"values\"]:\n",
    "\n",
    "\n",
    "                weather = dict(origin = row.origin, destination = row.destination, scheduled_time_departure = row.scheduled_time_departure,\n",
    "                               temperature = value[\"temp\"], \n",
    "                               precipitation = value[\"precip\"],\n",
    "                               windSpeed = value[\"wspd\"],\n",
    "                               dewpoint = value[\"dew\"],\n",
    "                               humidity = value[\"humidity\"])\n",
    "                return weather\n",
    "    except Exception as e:\n",
    "        print(e)\n",
    "        return  dict(origin = row.origin, destination = row.destination, scheduled_time_departure = row.scheduled_time_departure,\n",
    "                                temperature = None, \n",
    "                               precipitation = None,\n",
    "                               windSpeed =None,\n",
    "                               dewpoint = None,\n",
    "                               humidity = None)\n",
    "        \n",
    "        \n",
    "    \n"
   ]
  },
  {
   "cell_type": "code",
   "execution_count": null,
   "metadata": {},
   "outputs": [],
   "source": [
    "records = []\n",
    "START = 3960 # Modify this (You have 1000 records free for day)\n",
    "END = 4960 # modify this \n",
    "\n",
    "for row in cleaned_df.iloc[START:END].itertuples():\n",
    "    records.append(get_data_weather(row))\n"
   ]
  },
  {
   "cell_type": "code",
   "execution_count": null,
   "metadata": {},
   "outputs": [],
   "source": [
    "weather = pd.DataFrame.from_records(records)\n",
    "weather = weather.drop_duplicates()"
   ]
  },
  {
   "cell_type": "code",
   "execution_count": null,
   "metadata": {},
   "outputs": [],
   "source": [
    "out_csv = f\"/Users/favea/Downloads/swiss-data/weather_{START}_{END}.csv\""
   ]
  },
  {
   "cell_type": "code",
   "execution_count": null,
   "metadata": {},
   "outputs": [],
   "source": [
    "weather.to_csv(out_csv)"
   ]
  },
  {
   "cell_type": "code",
   "execution_count": null,
   "metadata": {},
   "outputs": [],
   "source": [
    "import wandb\n",
    "\n",
    "with wandb.init(\n",
    "    project=\"swiss-delay-prediction\", entity=None, job_type=\"weather-data\"\n",
    ") as run:\n",
    "    table_merged = wandb.Table(dataframe=weather)\n",
    "\n",
    "    # Create an artifact for our dataset\n",
    "    dataset_artifact = wandb.Artifact(\n",
    "        \"dataset-weather\",\n",
    "        type=\"dataset\",\n",
    "        description=\"Table containing weather info for observations in cleaned dataframe\",\n",
    "    )\n",
    "    # Add the table to the artifact & log the artifact\n",
    "    dataset_artifact.add(table_merged, \"data-table-delay-cleaned\")\n",
    "    dataset_artifact.add_file(\"/Users/favea/Downloads/swiss-data/10122022b_cleaned.csv\")\n",
    "\n",
    "    # Add the\n",
    "    run.log_artifact(dataset_artifact)\n"
   ]
  }
 ],
 "metadata": {
  "kernelspec": {
   "display_name": "Python 3.8.5 ('swiss')",
   "language": "python",
   "name": "python3"
  },
  "language_info": {
   "codemirror_mode": {
    "name": "ipython",
    "version": 3
   },
   "file_extension": ".py",
   "mimetype": "text/x-python",
   "name": "python",
   "nbconvert_exporter": "python",
   "pygments_lexer": "ipython3",
   "version": "3.8.5"
  },
  "orig_nbformat": 4,
  "vscode": {
   "interpreter": {
    "hash": "27173ca9e262779112d37ff834a183edc1f32234e7a598e599b2cfd0e10e4ba1"
   }
  }
 },
 "nbformat": 4,
 "nbformat_minor": 2
}
