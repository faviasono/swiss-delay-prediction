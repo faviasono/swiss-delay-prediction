{
 "cells": [
  {
   "cell_type": "code",
   "execution_count": null,
   "metadata": {},
   "outputs": [],
   "source": [
    "import pandas as pd\n",
    "import os\n",
    "import wandb\n",
    "DATA_PATH ='/Users/favea/Downloads/swiss-data'"
   ]
  },
  {
   "cell_type": "markdown",
   "metadata": {},
   "source": [
    "### READ DATASETS"
   ]
  },
  {
   "cell_type": "code",
   "execution_count": null,
   "metadata": {},
   "outputs": [],
   "source": [
    "\n",
    "df_delay = pd.read_csv(os.path.join(DATA_PATH,'delay.csv'), delimiter=';', dtype={'wh_fdel_delay_subcode':str})\n",
    "df_fis = pd.read_csv(os.path.join(DATA_PATH,'fis.csv'), delimiter=';')\n",
    "df_delay = df_delay.drop_duplicates(subset='wh_fdel_leg_i')"
   ]
  },
  {
   "cell_type": "markdown",
   "metadata": {},
   "source": [
    "## MERGE DATASET"
   ]
  },
  {
   "cell_type": "code",
   "execution_count": null,
   "metadata": {},
   "outputs": [],
   "source": [
    "merged_df = df_fis.merge(df_delay, left_on='wh_fleg_leg_i', right_on='wh_fdel_leg_i')\n"
   ]
  },
  {
   "cell_type": "code",
   "execution_count": null,
   "metadata": {},
   "outputs": [],
   "source": [
    "pd.set_option('display.max_rows', None)\n",
    "merged_df[merged_df.wh_fleg_flt_legs > 1].sample(10).T"
   ]
  },
  {
   "cell_type": "code",
   "execution_count": null,
   "metadata": {},
   "outputs": [],
   "source": [
    "merged_df['is_delayed'] = merged_df.wh_fdel_delay_time>=15\n",
    "\n"
   ]
  },
  {
   "cell_type": "code",
   "execution_count": null,
   "metadata": {},
   "outputs": [],
   "source": [
    "merged_df.groupby('is_delayed').count()"
   ]
  },
  {
   "cell_type": "code",
   "execution_count": null,
   "metadata": {},
   "outputs": [],
   "source": [
    "pd.set_option('display.max_rows', None)\n",
    "df_fis[(df_fis.wh_fleg_arr_ap_scd == 'BRI')].T"
   ]
  },
  {
   "cell_type": "code",
   "execution_count": null,
   "metadata": {},
   "outputs": [],
   "source": [
    "df_fis[df_fis.wh_fleg_cycles >= 10].sample(10).T # turn-around flights and \"positioning/ferry flights\""
   ]
  },
  {
   "cell_type": "code",
   "execution_count": null,
   "metadata": {},
   "outputs": [],
   "source": [
    "\n",
    "df_fis.sample(100).head(10).T\n",
    "# PAX information can tell whether there's passengeres that cancelled \n",
    "# WH: stands for wheel (position from where the flight is taking off or landing)\n",
    "# "
   ]
  },
  {
   "cell_type": "code",
   "execution_count": null,
   "metadata": {},
   "outputs": [],
   "source": [
    "df_fis.groupby(by='wh_fleg_flt_carrier').count() # REMOVE DC = wh_fleg_flt_carrier (only 4 observations)\n",
    "df_fis.wh_fleg_season = df_fis.wh_fleg_season.str.strip() # Error type with season (I guess is spring-summer and Winter|Autumn)\n",
    "df_fis.groupby(by='wh_fleg_season').count() # df_fis.wh_fleg_season = df_fis.wh_fleg_season.str.strip() # Error type with season # Only info about Summer and Winter 2021/2022 (also W2020)\n",
    "df_fis.groupby(by='wh_fleg_leg_state').count() # there's 4242 cancelled flgiths (CLN) , not need to use them. I can remove  them I guess\n"
   ]
  },
  {
   "cell_type": "code",
   "execution_count": null,
   "metadata": {},
   "outputs": [],
   "source": [
    "df_fis.groupby(by='wh_fleg_dep_ap_scd')[['wh_fleg_leg_i']].count().sort_values(by = 'wh_fleg_leg_i',ascending=False) # most of  the flights flgiht from Zurich or Geneva"
   ]
  },
  {
   "cell_type": "code",
   "execution_count": null,
   "metadata": {},
   "outputs": [],
   "source": [
    "df_fis.groupby(by='wh_fleg_season').count() \n",
    "\n"
   ]
  },
  {
   "cell_type": "code",
   "execution_count": null,
   "metadata": {},
   "outputs": [],
   "source": [
    "df_fis.groupby(by=['wh_fleg_dep_ap_scd','wh_fleg_arr_ap_scd'])[['wh_fleg_leg_i']].count().sort_values(by = 'wh_fleg_leg_i',ascending=False)\n",
    "# The most common itinerary is BER-ZRR; LHR-ZRH  (Hetrow), GVA-ZUrich (baaad for the environment)"
   ]
  },
  {
   "cell_type": "code",
   "execution_count": null,
   "metadata": {},
   "outputs": [],
   "source": [
    "df_fis[df_fis.wh_fleg_flt_carrier == 'LX'].head(10).T"
   ]
  },
  {
   "cell_type": "code",
   "execution_count": null,
   "metadata": {},
   "outputs": [],
   "source": [
    "df_delay.sample()"
   ]
  },
  {
   "cell_type": "code",
   "execution_count": null,
   "metadata": {},
   "outputs": [],
   "source": [
    "df_delay.groupby('wh_fdel_delay_code').count().sort_values(by='wh_fdel_leg_i', ascending=False)\n",
    "\n",
    "# Most common: \n",
    "# 0 (internal err) -> Not easy to understand what is is\n",
    "# 93 (RA): Aircraft rotation, late arrival of aircraft from another flight or previous sector\n",
    "# 89 (AM): Restrictions at airport of departure,airport/runway closed due obstruction, industrial action, staff shortage, political unrest, noise abatemen\n",
    "# 81 (AT): ATC restriction en-route or capacity\n",
    "# 91 (RL): Passenger or Load Connection, awaiting load or passengers from another flight. Protection of stranded passengers onto a new flight.\n",
    "# 83 (AE): ATC restriction at destination\n",
    "# 85 (AS): Mandatory security\n",
    "# 84 (AW): ATC restriction due to weather at destination\n",
    "# 16 (PS): Commercial Publicity, Passenger Convenience, VIP, Press, Ground meals and missing personal items\n",
    "# 2 Delay codes starting with 2 (cargo/mail)\n",
    "# 41 (TD): Aircraft defects\n"
   ]
  },
  {
   "cell_type": "code",
   "execution_count": null,
   "metadata": {},
   "outputs": [],
   "source": [
    "df_delay[df_delay.wh_fdel_delay_code == 0].head()"
   ]
  },
  {
   "cell_type": "code",
   "execution_count": null,
   "metadata": {},
   "outputs": [],
   "source": [
    "run = wandb.init(project='swiss-delay-prediction', entity=None, job_type=\"upload\", )\n",
    "raw_data_at = wandb.Artifact('data', type=\"raw_data\")\n"
   ]
  },
  {
   "cell_type": "code",
   "execution_count": null,
   "metadata": {},
   "outputs": [],
   "source": [
    "raw_data_at.add_file(\"/Users/favea/Downloads/swiss-data/delay.csv\")\n",
    "raw_data_at.add_file(\"/Users/favea/Downloads/swiss-data/fis.csv\")\n",
    "\n",
    "run.log_artifact(raw_data_at)"
   ]
  },
  {
   "cell_type": "code",
   "execution_count": null,
   "metadata": {},
   "outputs": [],
   "source": [
    "run.finish()\n"
   ]
  },
  {
   "cell_type": "code",
   "execution_count": null,
   "metadata": {},
   "outputs": [],
   "source": [
    "merged_df.to_csv('/Users/favea/Downloads/swiss-data/merged_df.csv')"
   ]
  },
  {
   "cell_type": "code",
   "execution_count": null,
   "metadata": {},
   "outputs": [],
   "source": [
    "with wandb.init(project='swiss-delay-prediction', entity=None, job_type=\"load_merged_dataset\") as run:\n",
    "    table_merged = wandb.Table(dataframe=merged_df)\n",
    "\n",
    "\n",
    "    # Create an artifact for our dataset\n",
    "    dataset_artifact = wandb.Artifact(\n",
    "        'dataset-merged', type='dataset',\n",
    "        description='Table containing the Delay CSV dataset merged with Fis dataset on columns: wh_fdel_leg_i and wh_fleg_leg_i',\n",
    "    )\n",
    "    # Add the table to the artifact & log the artifact\n",
    "    dataset_artifact.add(table_merged, 'data-table-delay')\n",
    "    dataset_artifact.add_file('/Users/favea/Downloads/swiss-data/merged_df.csv')\n",
    "\n",
    "\n",
    "    # Add the \n",
    "    run.log_artifact(dataset_artifact)\n",
    "    \n",
    "\n",
    "\n"
   ]
  }
 ],
 "metadata": {
  "kernelspec": {
   "display_name": "Python 3.8.5 ('swiss')",
   "language": "python",
   "name": "python3"
  },
  "language_info": {
   "codemirror_mode": {
    "name": "ipython",
    "version": 3
   },
   "file_extension": ".py",
   "mimetype": "text/x-python",
   "name": "python",
   "nbconvert_exporter": "python",
   "pygments_lexer": "ipython3",
   "version": "3.8.5"
  },
  "orig_nbformat": 4,
  "vscode": {
   "interpreter": {
    "hash": "27173ca9e262779112d37ff834a183edc1f32234e7a598e599b2cfd0e10e4ba1"
   }
  }
 },
 "nbformat": 4,
 "nbformat_minor": 2
}
