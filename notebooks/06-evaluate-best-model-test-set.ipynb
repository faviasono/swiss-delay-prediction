{
 "cells": [
  {
   "cell_type": "code",
   "execution_count": null,
   "metadata": {},
   "outputs": [],
   "source": [
    "import lightgbm as lgb\n",
    "import wandb\n",
    "import pandas as pd\n",
    "\n",
    "\n",
    "import wandb\n",
    "run = wandb.init()\n",
    "artifact = run.use_artifact('andrea-faviait/swiss-delay-prediction/model_k128i4ar:v0', type='model')\n",
    "artifact_dir = artifact.download()\n",
    "model = lgb.Booster(model_file=artifact_dir+'/model_ckpt_1690.txt') # https://wandb.ai/andrea-faviait/swiss-delay-prediction/artifacts/model/model_k128i4ar/f333850bd665f821e8ff/overview"
   ]
  },
  {
   "cell_type": "code",
   "execution_count": null,
   "metadata": {},
   "outputs": [],
   "source": [
    "lgb.plot_importance(model)"
   ]
  },
  {
   "cell_type": "code",
   "execution_count": null,
   "metadata": {},
   "outputs": [],
   "source": [
    "test_df = pd.read_csv('/Users/favea/Downloads/swiss-data/test_df.csv' ,index_col=0)\n",
    "before_flights = pd.read_csv('/Users/favea/Downloads/swiss-data/previous_delayed_same_day.csv').drop('Unnamed: 0',axis=1)"
   ]
  },
  {
   "cell_type": "code",
   "execution_count": null,
   "metadata": {},
   "outputs": [],
   "source": [
    "#test_df = test_df.merge(before_flights, left_on='id_flight', right_on='wh_fleg_leg_i')\n",
    "test_df['departure_hour'] = test_df.scheduled_time_departure.apply(lambda x: pd.to_datetime(x).hour)\n",
    "test_df['departure_minutes'] = test_df.scheduled_time_departure.apply(lambda x: pd.to_datetime(x).minute)"
   ]
  },
  {
   "cell_type": "code",
   "execution_count": null,
   "metadata": {},
   "outputs": [],
   "source": [
    "columns_to_remove = ['ac_subtype','wh_fleg_leg_i','id_flight','carrier','season_trip','delay_minutes','scheduled_time_departure','year']"
   ]
  },
  {
   "cell_type": "code",
   "execution_count": null,
   "metadata": {},
   "outputs": [],
   "source": [
    "\n",
    "test_df = test_df.drop(columns_to_remove,axis=1)\n",
    "test_df = test_df.drop('ac_registration_code',axis=1)\n",
    "x_test, y_test = test_df.drop('delayed',axis=1), test_df.loc[:,'delayed']\n",
    "#x_train.carrier = x_train.carrier.astype('category')\n",
    "x_test.origin = x_test.origin.astype('category')\n",
    "x_test.destination = x_test.destination.astype('category')\n",
    "#x_train.previous_is_delayed = x_train.previous_is_delayed.astype('category')\n",
    "#x_train.ac_subtype = x_train.ac_subtype.astype('category')\n",
    "#x_train.ac_registration_code = x_train.ac_registration_code.astype('category')\n",
    "x_test.previous_is_delayed_same_day = x_test.previous_is_delayed_same_day.astype('category')"
   ]
  },
  {
   "cell_type": "code",
   "execution_count": null,
   "metadata": {},
   "outputs": [],
   "source": [
    "y_test_pred = model.predict(x_test)"
   ]
  },
  {
   "cell_type": "code",
   "execution_count": null,
   "metadata": {},
   "outputs": [],
   "source": [
    "x_test['predicted'] = (y_test_pred>=0.5).astype(int)\n",
    "x_test['true'] = y_test"
   ]
  },
  {
   "cell_type": "code",
   "execution_count": null,
   "metadata": {},
   "outputs": [],
   "source": [
    "x_test.sample(100)"
   ]
  },
  {
   "cell_type": "code",
   "execution_count": null,
   "metadata": {},
   "outputs": [],
   "source": [
    "x_test.groupby(by=['true','predicted']).count().iloc[:,:1]"
   ]
  },
  {
   "cell_type": "code",
   "execution_count": null,
   "metadata": {},
   "outputs": [],
   "source": [
    "from sklearn.metrics import classification_report, confusion_matrix"
   ]
  },
  {
   "cell_type": "code",
   "execution_count": null,
   "metadata": {},
   "outputs": [],
   "source": [
    "print(classification_report(x_test['true'],x_test['predicted']))"
   ]
  }
 ],
 "metadata": {
  "kernelspec": {
   "display_name": "Python 3.8.5 ('swiss')",
   "language": "python",
   "name": "python3"
  },
  "language_info": {
   "codemirror_mode": {
    "name": "ipython",
    "version": 3
   },
   "file_extension": ".py",
   "mimetype": "text/x-python",
   "name": "python",
   "nbconvert_exporter": "python",
   "pygments_lexer": "ipython3",
   "version": "3.8.5"
  },
  "orig_nbformat": 4,
  "vscode": {
   "interpreter": {
    "hash": "27173ca9e262779112d37ff834a183edc1f32234e7a598e599b2cfd0e10e4ba1"
   }
  }
 },
 "nbformat": 4,
 "nbformat_minor": 2
}
