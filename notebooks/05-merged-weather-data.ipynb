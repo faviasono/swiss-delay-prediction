{
 "cells": [
  {
   "cell_type": "code",
   "execution_count": null,
   "metadata": {},
   "outputs": [],
   "source": [
    "from sklearn.model_selection import train_test_split\n",
    "from sklearn.metrics import accuracy_score\n",
    "from xgboost import XGBClassifier\n",
    "from lightgbm import LGBMClassifier\n",
    "import lightgbm as lgb"
   ]
  },
  {
   "cell_type": "code",
   "execution_count": null,
   "metadata": {},
   "outputs": [],
   "source": [
    "import pandas as pd\n",
    "import os\n",
    "data_path = '/Users/favea/Downloads/swiss-data'\n",
    "\n",
    "weather_files = [os.path.join(data_path,f) for f in os.listdir(data_path) if 'weather' in f]\n",
    "\n",
    "cleaned_df = pd.read_csv(os.path.join(data_path,'10122022b_cleaned.csv'),index_col=0)"
   ]
  },
  {
   "cell_type": "code",
   "execution_count": null,
   "metadata": {},
   "outputs": [],
   "source": [
    "df_weather = None\n",
    "for wf in weather_files:\n",
    "    print(wf)\n",
    "    if df_weather is None:\n",
    "        df_weather = pd.read_csv(wf)\n",
    "        print(df_weather.shape)\n",
    "    else:\n",
    "        d = pd.read_csv(wf)\n",
    "        df_weather = df_weather.append(d)\n",
    "\n"
   ]
  },
  {
   "cell_type": "code",
   "execution_count": null,
   "metadata": {},
   "outputs": [],
   "source": [
    "merged = pd.merge(left = cleaned_df, right = df_weather, on = ['origin','destination','scheduled_time_departure'])"
   ]
  },
  {
   "cell_type": "code",
   "execution_count": null,
   "metadata": {},
   "outputs": [],
   "source": [
    "merged = merged.dropna().drop(['year','delay_minutes','scheduled_time_departure','Unnamed: 0_x','Unnamed: 0_y'],axis=1)"
   ]
  },
  {
   "cell_type": "markdown",
   "metadata": {},
   "source": [
    "without weather feature"
   ]
  },
  {
   "cell_type": "code",
   "execution_count": null,
   "metadata": {},
   "outputs": [],
   "source": [
    "weather_features = ['temperature','precipitation', 'windSpeed', 'dewpoint', 'humidity']"
   ]
  },
  {
   "cell_type": "code",
   "execution_count": null,
   "metadata": {},
   "outputs": [],
   "source": [
    "X,y = merged.drop('delayed',1), merged.loc[:,'delayed']"
   ]
  },
  {
   "cell_type": "code",
   "execution_count": null,
   "metadata": {},
   "outputs": [],
   "source": [
    "X = X.drop(weather_features,axis=1)\n",
    "X.carrier = X.carrier.astype('category')\n",
    "X.origin = X.origin.astype('category')\n",
    "X.destination = X.destination.astype('category')\n",
    "X.previous_is_delayed = X.previous_is_delayed.astype('category')"
   ]
  },
  {
   "cell_type": "code",
   "execution_count": null,
   "metadata": {},
   "outputs": [],
   "source": [
    "seed = 7\n",
    "test_size = 0.33\n",
    "X_train, X_test, y_train, y_test = train_test_split(X, y, test_size=test_size, random_state=seed, stratify=y)\n",
    "\n",
    "\n",
    "model = LGBMClassifier()\n",
    "gbm = model.fit(X_train, y_train, eval_set=(X_test,y_test), eval_metric ='average_precision')\n",
    "\n",
    "\n"
   ]
  },
  {
   "cell_type": "code",
   "execution_count": null,
   "metadata": {},
   "outputs": [],
   "source": [
    "lgb.plot_importance(gbm)"
   ]
  },
  {
   "cell_type": "code",
   "execution_count": null,
   "metadata": {},
   "outputs": [],
   "source": [
    "lgb.plot_metric(gbm,'average_precision')"
   ]
  },
  {
   "cell_type": "code",
   "execution_count": null,
   "metadata": {},
   "outputs": [],
   "source": [
    "y_test_pred = gbm.predict(X_test, num_iteration = gbm.best_iteration_)\n",
    "from sklearn.metrics import classification_report\n",
    "print(classification_report(y_test, (y_test_pred>=0.5).astype(int)))"
   ]
  },
  {
   "cell_type": "markdown",
   "metadata": {},
   "source": [
    "with weather feature"
   ]
  },
  {
   "cell_type": "code",
   "execution_count": null,
   "metadata": {},
   "outputs": [],
   "source": [
    "X,y = merged.drop('delayed',1), merged.loc[:,'delayed']"
   ]
  },
  {
   "cell_type": "code",
   "execution_count": null,
   "metadata": {},
   "outputs": [],
   "source": [
    "X.carrier = X.carrier.astype('category')\n",
    "X.origin = X.origin.astype('category')\n",
    "X.destination = X.destination.astype('category')\n",
    "X.previous_is_delayed = X.previous_is_delayed.astype('category')"
   ]
  },
  {
   "cell_type": "code",
   "execution_count": null,
   "metadata": {},
   "outputs": [],
   "source": [
    "seed = 7\n",
    "test_size = 0.33\n",
    "X_train, X_test, y_train, y_test = train_test_split(X, y, test_size=test_size, random_state=seed, stratify=y)"
   ]
  },
  {
   "cell_type": "code",
   "execution_count": null,
   "metadata": {},
   "outputs": [],
   "source": [
    "from xgboost import XGBClassifier\n",
    "from lightgbm import LGBMClassifier\n",
    "model = LGBMClassifier()\n",
    "gbm = model.fit(X_train, y_train, eval_set=(X_test,y_test), eval_metric ='average_precision')\n"
   ]
  },
  {
   "cell_type": "code",
   "execution_count": null,
   "metadata": {},
   "outputs": [],
   "source": [
    "import lightgbm as lgb"
   ]
  },
  {
   "cell_type": "code",
   "execution_count": null,
   "metadata": {},
   "outputs": [],
   "source": [
    "lgb.plot_importance(gbm)"
   ]
  },
  {
   "cell_type": "code",
   "execution_count": null,
   "metadata": {},
   "outputs": [],
   "source": [
    "lgb.plot_metric(gbm,'average_precision')"
   ]
  },
  {
   "cell_type": "code",
   "execution_count": null,
   "metadata": {},
   "outputs": [],
   "source": [
    "y_test_pred = gbm.predict(X_test, num_iteration = gbm.best_iteration_)\n",
    "from sklearn.metrics import classification_report\n",
    "print(classification_report(y_test, (y_test_pred>=0.5).astype(int)))"
   ]
  },
  {
   "cell_type": "code",
   "execution_count": null,
   "metadata": {},
   "outputs": [],
   "source": []
  }
 ],
 "metadata": {
  "kernelspec": {
   "display_name": "Python 3.8.5 ('gzaff')",
   "language": "python",
   "name": "python3"
  },
  "language_info": {
   "codemirror_mode": {
    "name": "ipython",
    "version": 3
   },
   "file_extension": ".py",
   "mimetype": "text/x-python",
   "name": "python",
   "nbconvert_exporter": "python",
   "pygments_lexer": "ipython3",
   "version": "3.8.5"
  },
  "orig_nbformat": 4,
  "vscode": {
   "interpreter": {
    "hash": "280bb2b5bdab4e32d0e32ca5e48973259a6d8e2f8db8c3a8a31b6fc317ce4513"
   }
  }
 },
 "nbformat": 4,
 "nbformat_minor": 2
}
