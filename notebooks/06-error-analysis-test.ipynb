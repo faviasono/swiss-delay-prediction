{
 "cells": [
  {
   "cell_type": "code",
   "execution_count": null,
   "metadata": {},
   "outputs": [
    {
     "name": "stderr",
     "output_type": "stream",
     "text": [
      "wandb: Network error (ConnectionError), entering retry loop.\n"
     ]
    }
   ],
   "source": [
    "import lightgbm as lgb\n",
    "import wandb\n",
    "import pandas as pd\n",
    "\n",
    "\n",
    "run = wandb.init()\n",
    "artifact = run.use_artifact('andrea-faviait/swiss-delay-prediction/model_o8eefm0p:v0', type='model')\n",
    "artifact_dir = artifact.download()\n",
    "model = lgb.Booster(model_file=artifact_dir+'/model_ckpt_0.txt')"
   ]
  },
  {
   "cell_type": "code",
   "execution_count": null,
   "metadata": {},
   "outputs": [],
   "source": [
    "test_df = pd.read_csv('/Users/favea/Downloads/swiss-data/test_df.csv' ,index_col=0)\n",
    "test_df = test_df.drop(['delay_minutes','scheduled_time_departure','year'],axis=1)\n",
    "x_test, y_test = test_df.drop('delayed',axis=1), test_df.loc[:,'delayed']\n",
    "x_test.carrier = x_test.carrier.astype('category')\n",
    "x_test.origin = x_test.origin.astype('category')\n",
    "x_test.destination = x_test.destination.astype('category')\n",
    "x_test.previous_is_delayed = x_test.previous_is_delayed.astype('category')\n",
    "\n",
    "lgb_train = lgb.Dataset(x_test, y_test, categorical_feature = ['carrier','origin','destination','previous_is_delayed'], free_raw_data=False)"
   ]
  },
  {
   "cell_type": "code",
   "execution_count": null,
   "metadata": {},
   "outputs": [],
   "source": [
    "d = {'carrier': 'string', 'origin': 'string', 'destination': 'string', 'distance_trip': 0, 'mails_data': 0, 'cargo_data': 0, 'number_checked_luggages': 0, 'flights_per_day': 0, 'previous_is_delayed': True, 'day_of_week': 0, 'day_of_year': 0, 'month': 0, 'total_number_passengers': 0, 'flights_within_hour': 0}"
   ]
  },
  {
   "cell_type": "code",
   "execution_count": null,
   "metadata": {},
   "outputs": [],
   "source": [
    "pd.DataFrame([d]).T"
   ]
  },
  {
   "cell_type": "code",
   "execution_count": null,
   "metadata": {},
   "outputs": [],
   "source": [
    "x_test.columns"
   ]
  },
  {
   "cell_type": "code",
   "execution_count": null,
   "metadata": {},
   "outputs": [],
   "source": [
    "lgb.plot_importance(model)"
   ]
  },
  {
   "cell_type": "code",
   "execution_count": null,
   "metadata": {},
   "outputs": [],
   "source": [
    "import matplotlib.pyplot as plt\n",
    "%matplotlib widget\n",
    "#plt.figure(figsize=(12,12)) \n",
    "#lgb.plot_tree(model)\n",
    "#plt.savefig('tree_high_dpi', dpi=5000)\n",
    "#plt.show()"
   ]
  },
  {
   "cell_type": "code",
   "execution_count": null,
   "metadata": {},
   "outputs": [],
   "source": [
    "y_test_pred = model.predict(x_test.drop('Unnamed: 0',1))"
   ]
  },
  {
   "cell_type": "code",
   "execution_count": null,
   "metadata": {},
   "outputs": [],
   "source": [
    "x_test['predicted'] = (y_test_pred>=0.5).astype(int)\n",
    "x_test['true'] = y_test"
   ]
  },
  {
   "cell_type": "code",
   "execution_count": null,
   "metadata": {},
   "outputs": [],
   "source": [
    "x_test.sample(100)"
   ]
  },
  {
   "cell_type": "code",
   "execution_count": null,
   "metadata": {},
   "outputs": [],
   "source": [
    "x_test.groupby(by=['true','predicted']).count().iloc[:,:1]"
   ]
  },
  {
   "cell_type": "code",
   "execution_count": null,
   "metadata": {},
   "outputs": [],
   "source": [
    "from sklearn.metrics import classification_report, confusion_matrix"
   ]
  },
  {
   "cell_type": "code",
   "execution_count": null,
   "metadata": {},
   "outputs": [],
   "source": [
    "print(classification_report(x_test['true'],x_test['predicted']))"
   ]
  }
 ],
 "metadata": {
  "kernelspec": {
   "display_name": "Python 3.8.5 ('swiss')",
   "language": "python",
   "name": "python3"
  },
  "language_info": {
   "codemirror_mode": {
    "name": "ipython",
    "version": 3
   },
   "file_extension": ".py",
   "mimetype": "text/x-python",
   "name": "python",
   "nbconvert_exporter": "python",
   "pygments_lexer": "ipython3",
   "version": "3.8.5"
  },
  "orig_nbformat": 4,
  "vscode": {
   "interpreter": {
    "hash": "27173ca9e262779112d37ff834a183edc1f32234e7a598e599b2cfd0e10e4ba1"
   }
  }
 },
 "nbformat": 4,
 "nbformat_minor": 2
}
