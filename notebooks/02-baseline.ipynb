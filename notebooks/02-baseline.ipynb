{
 "cells": [
  {
   "cell_type": "code",
   "execution_count": null,
   "metadata": {},
   "outputs": [],
   "source": [
    "\n",
    "import lightgbm as lg\n",
    "import pandas as pd\n",
    "import lightgbm as lgb\n",
    "from sklearn.metrics import mean_squared_error\n",
    "\n",
    "import wandb\n",
    "from wandb.lightgbm import wandb_callback, log_summary"
   ]
  },
  {
   "cell_type": "markdown",
   "metadata": {},
   "source": [
    "1. Load data"
   ]
  },
  {
   "cell_type": "code",
   "execution_count": null,
   "metadata": {},
   "outputs": [],
   "source": [
    "train_df = pd.read_csv('/Users/favea/Downloads/swiss-data/train_df.csv', index_col=0)\n",
    "train_df = train_df.drop('delay_minutes',axis=1)\n",
    "x_train, y_train = train_df.drop('delayed',axis=1), train_df.loc[:,'delayed']\n",
    "x_train.carrier = x_train.carrier.astype('category')\n",
    "x_train.origin = x_train.origin.astype('category')\n",
    "x_train.destination = x_train.destination.astype('category')\n",
    "\n",
    "lgb_train = lgb.Dataset(x_train, y_train, categorical_feature = ['carrier','origin','destination'], free_raw_data=False)"
   ]
  },
  {
   "cell_type": "code",
   "execution_count": null,
   "metadata": {},
   "outputs": [],
   "source": [
    "dev_df = pd.read_csv('/Users/favea/Downloads/swiss-data/dev_df.csv', index_col=0)\n",
    "dev_df = dev_df.drop('delay_minutes',axis=1)\n",
    "\n",
    "x_dev, y_dev = dev_df.drop('delayed',axis=1), dev_df.loc[:,'delayed']\n",
    "x_dev.carrier = x_dev.carrier.astype('category')\n",
    "x_dev.origin = x_dev.origin.astype('category')\n",
    "x_dev.destination = x_dev.destination.astype('category')\n",
    "\n",
    "lgb_dev = lgb.Dataset(x_dev, y_dev, reference=lgb_train, categorical_feature = ['carrier','origin','destination'], free_raw_data=False)"
   ]
  },
  {
   "cell_type": "markdown",
   "metadata": {},
   "source": [
    "2. Train baseline"
   ]
  },
  {
   "cell_type": "code",
   "execution_count": null,
   "metadata": {},
   "outputs": [],
   "source": [
    "# specify your configurations as a dict\n",
    "params = {\n",
    "    'boosting_type': 'gbdt',\n",
    "    'objective': 'binary',\n",
    "    'metric': ['binary_logloss','auc','average_precision'],\n",
    "    'num_leaves': 50,\n",
    "    'learning_rate': 0.05,\n",
    "    'feature_fraction': 0.9,\n",
    "    'bagging_fraction': 0.8,\n",
    "    'bagging_freq': 5,\n",
    "    'verbosity': 1,\n",
    "    'scale_pos_weight': 1,\n",
    "}\n",
    "\n",
    "wandb.init(project='swiss-delay-prediction', job_type= 'training-lightgbm-baseline', config=params);"
   ]
  },
  {
   "cell_type": "code",
   "execution_count": null,
   "metadata": {},
   "outputs": [],
   "source": [
    "gbm = lgb.train(params,\n",
    "                lgb_train,\n",
    "                num_boost_round=100,\n",
    "                valid_sets=lgb_dev,\n",
    "                valid_names=('validation'),\n",
    "                callbacks=[wandb_callback()],\n",
    "                early_stopping_rounds=10,\n",
    "                )"
   ]
  },
  {
   "cell_type": "code",
   "execution_count": null,
   "metadata": {},
   "outputs": [],
   "source": [
    "log_summary(gbm, save_model_checkpoint=True)"
   ]
  },
  {
   "cell_type": "code",
   "execution_count": null,
   "metadata": {},
   "outputs": [],
   "source": [
    "from sklearn.metrics import accuracy_score, classification_report, roc_auc_score, f1_score, precision_recall_fscore_support, roc_curve"
   ]
  },
  {
   "cell_type": "code",
   "execution_count": null,
   "metadata": {},
   "outputs": [],
   "source": [
    "# predict\n",
    "y_pred = gbm.predict(x_dev, num_iteration=gbm.best_iteration)\n",
    "\n",
    "roc_ac = roc_auc_score(y_dev, y_pred)\n",
    "wandb.log({'roc_auc': roc_ac})"
   ]
  },
  {
   "cell_type": "code",
   "execution_count": null,
   "metadata": {},
   "outputs": [],
   "source": [
    "wandb.sklearn.plot_confusion_matrix(y_dev, (y_pred>=0.5).astype(int))"
   ]
  },
  {
   "cell_type": "code",
   "execution_count": null,
   "metadata": {},
   "outputs": [],
   "source": [
    "y_train_pred = gbm.predict(x_train, num_iteration=gbm.best_iteration)\n",
    "print(classification_report(y_train, (y_train_pred>=0.5).astype(int)))"
   ]
  },
  {
   "cell_type": "code",
   "execution_count": null,
   "metadata": {},
   "outputs": [],
   "source": [
    "wandb.finish()"
   ]
  },
  {
   "cell_type": "markdown",
   "metadata": {},
   "source": [
    "## SWEEP"
   ]
  },
  {
   "cell_type": "code",
   "execution_count": null,
   "metadata": {},
   "outputs": [],
   "source": [
    "sweep_config = {\n",
    "  \"method\" : \"bayes\",\n",
    "  \"metric\": {\n",
    "      \"name\": \"avg_precision_dev\",\n",
    "      \"goal\": \"maximize\"\n",
    "  },\n",
    "  \"parameters\" : {\n",
    "    \"learning_rate\" :{\n",
    "      \"min\": 0.001,\n",
    "      \"max\": 1.0\n",
    "    },\n",
    "    \"gamma\" :{\n",
    "      \"min\": 0.001,\n",
    "      \"max\": 1.0\n",
    "    },\n",
    "    \"min_child_weight\" :{\n",
    "      \"min\": 1,\n",
    "      \"max\": 150\n",
    "    },\n",
    "    \"early_stopping_rounds\" :{\n",
    "      \"values\" : [10, 20, 30, 40]\n",
    "    },\n",
    "    \"boosting_type\":{\"values\":['gbdt','rf','dart']},\n",
    "    \"num_leaves\":{\"values\":[20,40,50]},\n",
    "    \"feature_fraction\": {\"values\":[0.4,0.9,1]},\n",
    "    \"bagging_fraction\":{\"values\":[0.5,0.8,1]},\n",
    "    \"bagging_freq\":{'values':[1,5,10]},\n",
    "    \"scale_pos_weight\":{\"values\":[1, 1.5, 2, 0.8]},\n",
    "    \"num_iterations\":{\"values\":[100, 150,200]},\n",
    "    \"lambda_l1\":{\"values\":[0.0, 0.3,0.5]},\n",
    "    \"lambda_l2\":{\"values\":[0.0, 0.3,0.5]},\n",
    "\n",
    "  }\n",
    "}\n"
   ]
  },
  {
   "cell_type": "code",
   "execution_count": null,
   "metadata": {},
   "outputs": [],
   "source": [
    "from sklearn import metrics\n",
    "from sklearn.metrics import average_precision_score\n",
    "import numpy as np"
   ]
  },
  {
   "cell_type": "code",
   "execution_count": null,
   "metadata": {},
   "outputs": [],
   "source": [
    "def train():     \n",
    "    with wandb.init() as run:\n",
    "\n",
    "        params = {\n",
    "            'boosting_type': run.config['boosting_type'],\n",
    "            'objective': 'binary',\n",
    "            'metric': ['binary_logloss','auc','average_precision'],\n",
    "            'num_leaves': run.config['num_leaves'],\n",
    "            'learning_rate': run.config['learning_rate'],\n",
    "            'feature_fraction': run.config['feature_fraction'],\n",
    "            'bagging_fraction': run.config['bagging_fraction'],\n",
    "            'bagging_freq': run.config['bagging_freq'],\n",
    "            'verbosity': 1,\n",
    "            'scale_pos_weight': run.config['scale_pos_weight'],\n",
    "            'lambda_l2':run.config['lambda_l2'],\n",
    "            'lambda_l1':run.config['lambda_l1'],\n",
    "\n",
    "        }\n",
    "    \n",
    "\n",
    "        # Initialize and train LightGBM model\n",
    "        gbm = lgb.train(params,\n",
    "                        lgb_train,\n",
    "                        num_boost_round=100,\n",
    "                        valid_sets=lgb_dev,\n",
    "                        valid_names=('validation'),\n",
    "                        callbacks=[wandb_callback()],\n",
    "                        early_stopping_rounds=10,\n",
    "                        )\n",
    "\n",
    "        \n",
    "\n",
    "\n",
    "        # Log booster metrics\n",
    "        run.summary[\"best_score\"] = gbm.best_score\n",
    "        run.summary[\"best_iteration\"] = gbm.best_iteration\n",
    "        \n",
    "        # Get train and validation predictions\n",
    "        y_dev_pred = gbm.predict(x_dev, num_iteration=gbm.best_iteration)\n",
    "        y_train_pred = gbm.predict(x_train, num_iteration=gbm.best_iteration)\n",
    "\n",
    "\n",
    "        # Log additional Train metrics\n",
    "        false_positive_rate, true_positive_rate, thresholds = metrics.roc_curve(y_train, y_train_pred) \n",
    "\n",
    "        avg_precision_train = average_precision_score(y_train, y_train_pred)\n",
    "        run.summary['train_avg_precision'] = avg_precision_train\n",
    "        run.summary['train_ks_stat'] = max(true_positive_rate - false_positive_rate)\n",
    "        run.summary['train_auc'] = metrics.auc(false_positive_rate, true_positive_rate)\n",
    "        run.summary['train_log_loss'] = -(y_train * np.log(y_train_pred) + (1-y_train) * np.log(1-y_train_pred)).sum() / len(y_train)\n",
    "\n",
    "        # Log additional Validation metrics\n",
    "        avg_precision_dev = average_precision_score(y_dev, y_dev_pred)\n",
    "        run.summary['avg_precision_dev'] = avg_precision_dev\n",
    "        run.summary[\"val_auc\"] = metrics.roc_auc_score(y_dev, y_dev_pred)\n",
    "        run.summary[\"val_acc_0.5\"] = metrics.accuracy_score(y_dev, np.where(y_dev_pred >= 0.5, 1, 0))\n",
    "        run.summary[\"val_log_loss\"] = -(y_dev * np.log(y_dev_pred) \n",
    "                                             + (1-y_dev) * np.log(1-y_dev_pred)).sum() / len(y_dev)"
   ]
  },
  {
   "cell_type": "code",
   "execution_count": null,
   "metadata": {},
   "outputs": [],
   "source": [
    "sweep_id = wandb.sweep(sweep_config, project=\"swiss-delay-prediction\")"
   ]
  },
  {
   "cell_type": "code",
   "execution_count": null,
   "metadata": {},
   "outputs": [],
   "source": [
    "count = 20 # number of runs to execute\n",
    "wandb.agent(sweep_id, function=train, count=100)"
   ]
  },
  {
   "cell_type": "code",
   "execution_count": null,
   "metadata": {},
   "outputs": [],
   "source": []
  }
 ],
 "metadata": {
  "kernelspec": {
   "display_name": "Python 3.8.5 ('gzaff')",
   "language": "python",
   "name": "python3"
  },
  "language_info": {
   "codemirror_mode": {
    "name": "ipython",
    "version": 3
   },
   "file_extension": ".py",
   "mimetype": "text/x-python",
   "name": "python",
   "nbconvert_exporter": "python",
   "pygments_lexer": "ipython3",
   "version": "3.8.5"
  },
  "orig_nbformat": 4,
  "vscode": {
   "interpreter": {
    "hash": "280bb2b5bdab4e32d0e32ca5e48973259a6d8e2f8db8c3a8a31b6fc317ce4513"
   }
  }
 },
 "nbformat": 4,
 "nbformat_minor": 2
}
